{
 "cells": [
  {
   "cell_type": "markdown",
   "metadata": {
    "collapsed": true,
    "slideshow": {
     "slide_type": "slide"
    }
   },
   "source": [
    "# BabyFat Data\n",
    "\n",
    "### Hongzhi Liu, Lixia Yi, Yanran Wang, Jianmin Chen\n",
    "\n",
    "CHECKLIST:\n",
    "1. SELECT 1-2 MODELS TO EXPLAIN\n",
    "2. TEST ON HOW TO INCLUDE PLOTS AND R FILES\n",
    "3. ESTABLISH A FRAMEWORK FOR OUR PRESENTATION (THE SLIDES IN CLASS COULD SERVE AS A GOOD REFERENCE\n"
   ]
  },
  {
   "cell_type": "markdown",
   "metadata": {
    "collapsed": true,
    "slideshow": {
     "slide_type": "slide"
    }
   },
   "source": [
    "### Part 1 Data Background and EDA\n",
    "### Part 2 Multi-linear regression and diagnostics\n",
    "### Part 3 Model-selection\n",
    "### Part 4 Result interpretation and limits"
   ]
  },
  {
   "cell_type": "markdown",
   "metadata": {
    "collapsed": true,
    "slideshow": {
     "slide_type": "slide"
    }
   },
   "source": [
    "## Part 1 Data Background and EDA\n",
    "\n",
    "The body fat data set contains 252 records for men on percentage of body fat, body density, age, weight, height,\n",
    "and ten body circumference measurements. The data was collected in a lab during the 1980s. One thing we've discovered is that almost all values of body fat in the given dataset are slightly larger than in the original one."
   ]
  },
  {
   "cell_type": "markdown",
   "metadata": {
    "collapsed": true,
    "slideshow": {
     "slide_type": "subslide"
    }
   },
   "source": [
    "First, we use the raw dataset to detect abnormal points on which we will pay more attention.\n",
    "3 rules were applied to detect abnormal points:\n",
    "1. Impossible values: 182(Bodyfat),216(Bodyfat),42(Height)\n",
    "2. Values differ too much between 2 measurements of body component: 96\n",
    "3. Extreme values: 79,39,31.(Outlier candidate points)\n"
   ]
  },
  {
   "cell_type": "code",
   "execution_count": 6,
   "metadata": {
    "slideshow": {
     "slide_type": "fragment"
    }
   },
   "outputs": [
    {
     "data": {
      "text/html": [
       "<ol class=list-inline>\n",
       "\t<li>248</li>\n",
       "\t<li>15</li>\n",
       "</ol>\n"
      ],
      "text/latex": [
       "\\begin{enumerate*}\n",
       "\\item 248\n",
       "\\item 15\n",
       "\\end{enumerate*}\n"
      ],
      "text/markdown": [
       "1. 248\n",
       "2. 15\n",
       "\n",
       "\n"
      ],
      "text/plain": [
       "[1] 248  15"
      ]
     },
     "metadata": {},
     "output_type": "display_data"
    }
   ],
   "source": [
    "data <- read.csv(file = \"../Data/BodyFat.csv\")\n",
    "data <- data[, -c(1)] #delete the index of instances\n",
    "data.1=data[-c(182,216,96,42),-c(2)] #delete points with no substitue\n",
    "dim(data.1)"
   ]
  },
  {
   "cell_type": "markdown",
   "metadata": {
    "collapsed": true,
    "slideshow": {
     "slide_type": "subslide"
    }
   },
   "source": [
    "# EDA: following is a corrplot showing the Pearson correlation coefficient between the Y and X. \n",
    "From the plots,.........."
   ]
  },
  {
   "cell_type": "code",
   "execution_count": 7,
   "metadata": {
    "slideshow": {
     "slide_type": "fragment"
    }
   },
   "outputs": [
    {
     "ename": "ERROR",
     "evalue": "Error in library(\"corrplot\"): there is no package called ‘corrplot’\n",
     "output_type": "error",
     "traceback": [
      "Error in library(\"corrplot\"): there is no package called ‘corrplot’\nTraceback:\n",
      "1. library(\"corrplot\")",
      "2. stop(txt, domain = NA)"
     ]
    }
   ],
   "source": [
    "library('corrplot')\n",
    "library(\"RColorBrewer\")\n",
    "M <- cor(data.1)\n",
    "cor.mtest <- function(mat, ...) {\n",
    "  mat <- as.matrix(mat)\n",
    "  n <- ncol(mat)\n",
    "  p.mat<- matrix(NA, n, n)\n",
    "  diag(p.mat) <- 0\n",
    "  for (i in 1:(n - 1)) {\n",
    "    for (j in (i + 1):n) {\n",
    "      tmp <- cor.test(mat[, i], mat[, j], ...)\n",
    "      p.mat[i, j] <- p.mat[j, i] <- tmp$p.value\n",
    "    }\n",
    "  }\n",
    "  colnames(p.mat) <- rownames(p.mat) <- colnames(mat)\n",
    "  p.mat\n",
    "}\n",
    "# matrix of the p-value of the correlation\n",
    "p.mat <- cor.mtest(data.1)\n",
    "corrplot(M, type=\"upper\", order=\"hclust\",col=brewer.pal(n=8, name=\"PuOr\"),\n",
    "         tl.col=\"black\",sig.level = 0.01,p.mat=p.mat,insig = \"blank\",\n",
    "         title=\"correlation plot\",tl.cex=0.6,mar=c(0,0,1,0))\n"
   ]
  },
  {
   "cell_type": "markdown",
   "metadata": {
    "collapsed": true,
    "slideshow": {
     "slide_type": "subslide"
    }
   },
   "source": [
    "# Add some other plot or EDA"
   ]
  },
  {
   "cell_type": "markdown",
   "metadata": {
    "collapsed": true,
    "slideshow": {
     "slide_type": "slide"
    }
   },
   "source": [
    "## Part 2 Multi-linear regression and diagnostics\n",
    "We first fit a multi-linear regression model on all variables and carry out model diagnostics.\n",
    "\n",
    "From the VIF values we can deduce that there exists an issue of multicollinearity. However, since multicollinearity won't affect the model diagnostic for abnormal points, we dealt with this problem after our detection attempt.\n"
   ]
  },
  {
   "cell_type": "code",
   "execution_count": 5,
   "metadata": {
    "slideshow": {
     "slide_type": "fragment"
    }
   },
   "outputs": [
    {
     "ename": "ERROR",
     "evalue": "Error in is.data.frame(data): object 'data.1' not found\n",
     "output_type": "error",
     "traceback": [
      "Error in is.data.frame(data): object 'data.1' not found\nTraceback:\n",
      "1. lm(BODYFAT ~ ., data = data.1)",
      "2. eval(mf, parent.frame())",
      "3. eval(mf, parent.frame())",
      "4. stats::model.frame(formula = BODYFAT ~ ., data = data.1, drop.unused.levels = TRUE)",
      "5. model.frame.default(formula = BODYFAT ~ ., data = data.1, drop.unused.levels = TRUE)",
      "6. is.data.frame(data)"
     ]
    }
   ],
   "source": [
    "model.raw <- lm(BODYFAT ~ ., data = data.1)\n",
    "summary(model.raw)\n",
    "par(mfrow = c(2,2))\n",
    "plot(model.raw)\n",
    "require(car)\n",
    "v = sort(vif(model.raw),decreasing = TRUE)\n",
    "library(gridExtra)\n",
    "library(grid)\n",
    "r1 = names(v)[1:7];r2 = round(v[1:7],2)\n",
    "r3 = names(v)[8:14];r4 = round(v[8:14],2)\n",
    "r = rbind(r1,r2,r3,r4);colnames(r) = NULL;rownames(r) = NULL\n",
    "table <- tableGrob(r)\n",
    "grid.newpage()\n",
    "h <- grobHeight(table)\n",
    "w <- grobWidth(table)\n",
    "title <- textGrob(\"VIF for full model\", y=unit(0.5,\"npc\") + 1*h, \n",
    "                  vjust=0, gp=gpar(fontsize=15))\n",
    "gt <- gTree(children=gList(table, title))\n",
    "grid.draw(gt)\n",
    "\n",
    "par(mfrow = c(1,1))\n",
    "plot(model.raw, which=4)\n",
    "abline( h = 4/(248-15),lty=2 )"
   ]
  },
  {
   "cell_type": "markdown",
   "metadata": {},
   "source": [
    "1. Remove abnormal points and high influencial points from the data\n",
    "    * Remove influencial points depending on Cook's Distance (> 4/(n-p)), one point each time: 39, 86, 221, 86, 192, 41, 250, 163.\n",
    "    * Remove high leverage points where leverage > 3 * p / n:36, 54, 175, 106, 159, 206.\n",
    "    * Remove outliers: No obvious outlier."
   ]
  },
  {
   "cell_type": "code",
   "execution_count": 4,
   "metadata": {},
   "outputs": [
    {
     "ename": "ERROR",
     "evalue": "Error in data[-c(182, 216, 96, 42, 39, 221, 86, 192, 41, 250, 163), -2]: object of type 'closure' is not subsettable\n",
     "output_type": "error",
     "traceback": [
      "Error in data[-c(182, 216, 96, 42, 39, 221, 86, 192, 41, 250, 163), -2]: object of type 'closure' is not subsettable\nTraceback:\n"
     ]
    }
   ],
   "source": [
    "data.2 = data[-c(182, 216, 96, 42, 39, 221, 86, 192, 41, 250, 163),-2]   #points differ\n",
    "model.raw2 <- lm(BODYFAT ~ ., data = data.2)\n",
    "outlierTest(model.raw2)\n",
    "data[224,]  #suspected outlier, but do not delete at 5%\n",
    "hat.plot(model.raw2)\n",
    "data.3 = data[-c(182, 216, 96, 42, 39, 221, 86, 192, 41, 250, 163, 31, 36, 54, 175, 106, 159, 206),-2]\n",
    "outlierTest(model.raw2)"
   ]
  },
  {
   "cell_type": "markdown",
   "metadata": {},
   "source": [
    "Afterwards, we refit the multivariate linear regression model using the cleaned data and discovered that the adjusted R-square is 0.71, which is acceptably high. Then we inspected the diagnostic plots: There are no obvious outliers. No assumptions of linear regression model were violated except for the normality assumption."
   ]
  },
  {
   "cell_type": "code",
   "execution_count": null,
   "metadata": {
    "collapsed": true
   },
   "outputs": [],
   "source": [
    "model.full <- lm(BODYFAT ~ ., data = data.3)\n",
    "summary(model.full)\n",
    "par(mfrow = c(2,2))\n",
    "plot(model.full)"
   ]
  },
  {
   "cell_type": "markdown",
   "metadata": {
    "collapsed": true
   },
   "source": [
    "2. Check the assumptions of the linear model\n",
    "    * Independent assumption.\n",
    "    * Homoscedasticity assumption.\n",
    "    * Linear form assumption.\n",
    "    \n",
    "All these assumptions were not violated. Except that in the residuals plot of Height vs Residuals, there exists some kind of quadratic form."
   ]
  },
  {
   "cell_type": "code",
   "execution_count": null,
   "metadata": {
    "collapsed": true,
    "slideshow": {
     "slide_type": "subslide"
    }
   },
   "outputs": [],
   "source": [
    "durbinWatsonTest(model.raw2)\n",
    "ncvTest(model.raw2)\n",
    "require(gvlma)\n",
    "gvlma(model.raw2)\n",
    "shapiro.test(model.full$residuals) #test for normality"
   ]
  },
  {
   "cell_type": "markdown",
   "metadata": {
    "collapsed": true,
    "slideshow": {
     "slide_type": "slide"
    }
   },
   "source": [
    "## Part 3 model selection\n",
    "Our main goal is to get a model predicting bodyfat, which is accurate enough but also simple and robust. It had been shown in Part 2 that there exists multicollinearity among independent variables which may cause unstable estimations of parameters and will lead to difficulty in explaining the model. We conducted several model selection procedures to solve that problem. Among all kinds of model selection methods, we mainly used subset selection methods and the Lasso method. We didn't use stepwise regression though it is an useful tool in model selection since it may lead to wrong models under serious multicollinearity."
   ]
  },
  {
   "cell_type": "markdown",
   "metadata": {
    "collapsed": true
   },
   "source": [
    "1. All subset selections using Mallow Cp as criterion\n",
    "According to the Cp plot, we selected variable 1,2,4,7,9,14 in the final model. That is,\n",
    "BODYFAT~AGE+WEIGHT+HEIGHT+ADIPOSITY+ABDOMEN+THIGH+WRIST"
   ]
  },
  {
   "cell_type": "code",
   "execution_count": null,
   "metadata": {
    "collapsed": true
   },
   "outputs": [],
   "source": [
    "show plot of Cp"
   ]
  },
  {
   "cell_type": "markdown",
   "metadata": {},
   "source": [
    "2. Lasso method\n",
    "Lasso is a powerful method under the multicollinearity settings. High influencial points and high leverage points may affect the selection result but we had already remedied most of that in Part 2. We discovered that, it is plausible to contain 3 or 4 variables in the Lasso procedure. The following plot is given by the cross-validation process in Lasso:"
   ]
  },
  {
   "cell_type": "code",
   "execution_count": null,
   "metadata": {
    "collapsed": true
   },
   "outputs": [],
   "source": [
    "show plot of variables selection by lasso"
   ]
  },
  {
   "cell_type": "markdown",
   "metadata": {},
   "source": [
    "After selecting variables, we use the selected ones to fit a multi-linear regression model again. The Lasso model generates 2 more models:\n",
    "a.BODYFAT~AGE+HEIGHT+ABDOMEN+WRIST\n",
    "b.BOFYFAT~HEIGHT+ABODOMEN+WRIST"
   ]
  },
  {
   "cell_type": "markdown",
   "metadata": {},
   "source": [
    "Now we have 4 candidate models including the full model. In order to find the best model, we conducted a 10-fold cross-validation 100 times on each of the model and calculated the mean of MSE. In the following table, we demonstrate the CV-MSE of 4 models as well as the adjusted R-square with all observations used."
   ]
  },
  {
   "cell_type": "code",
   "execution_count": 1,
   "metadata": {
    "collapsed": true
   },
   "outputs": [],
   "source": [
    "table"
   ]
  },
  {
   "cell_type": "markdown",
   "metadata": {
    "collapsed": true,
    "slideshow": {
     "slide_type": "slide"
    }
   },
   "source": [
    "Part 4 \n",
    "Based on all the discussions above, ......\n",
    "\n",
    "(1)a formula of the rule\n",
    "\n",
    "(2)a interpretation of CI of slope\n",
    "\n",
    "(3)give a plot of fitted line and the points\n",
    "\n",
    "(4)limitations: age range(plot), sex(only male), year(the data was gathered over 20 years ago in lab)\n",
    "\n",
    "(5)unit problem\n",
    "\n",
    "e.\tClear, laymen's interpretation of the estimates and inferential quantities (6 points)\n",
    "f.\tModel diagnostics and checking modeling assumptions with plots (5 points)\n",
    "g.\tStrengths and weakness of the group's data analysis (5 points)\n",
    "h.\tConclusion (2 points)\n",
    "\n",
    "......"
   ]
  },
  {
   "cell_type": "markdown",
   "metadata": {},
   "source": [
    "## Conclusion\n",
    "\n",
    "The final model is :\n",
    "$$Bodyfat = 10.1006 - 0.4428Height + 0.7198Abdomen - 1.4557Wrist$$\n",
    "Simplifying it:\n",
    "$$Bodyfat = 10 - 0.5Height + 0.7Abdomen - 1.5Wrist$$\n",
    "\n",
    "Interpretation of the model: \n",
    "Considering that our body consists mostly of flesh and bones. It is intuitive that the circumference of our abdomen (belly) is a good parameter for measuring flesh, especially how fat we are, while the circumference of our wrist, a part with minimum fat, is a good indicator for how much our bones are contributing to the weight but not bodyfat. As we've discussed previously, there exists multicollinearity between the variables, hence the variable `Height` serves as a correction term instead of an unreasonable variable which contributes negatively to the bodyfat.\n",
    "\n",
    "One advantage of the model is its simplicity. To estimate our bodyfat, we only need to know three values: Our height, the circumference of our abdomen and the circumference of our wrist. Considering most of us already know our height and it is very easy to measure the the circumference of our abdomen and wrist, most of the people can estimate their bodyfat without much effort.\n",
    "\n",
    "The disadvantage of the model lies in its accuracy and adaptation. The accuracy will descrease after we've simplified the model, hence it cannot be guaranteed that the estimation is precise. Moreover, since the data was gathered over more than 20 years ago and only from males, the model cannot represent the trend in men's figure today and is not applicable to women.\n"
   ]
  },
  {
   "cell_type": "markdown",
   "metadata": {},
   "source": [
    "## Contribution\n",
    "\n",
    "| Name         | Contibution                                                                     |\n",
    "|--------------|---------------------------------------------------------------------------------|\n",
    "| Hongzhi Liu  | Completed the first version of analysis and code.                               |\n",
    "| Jianmin Chen | Reorganized Hongzhi's work, added new content. Redrew the images.               |\n",
    "| Yanran Wang  | Summarized our work.                                                            |\n",
    "| Lixia Yi     | Revised the Rmarkdown file. Tested and maintained the GitHub repo and notebook. |"
   ]
  }
 ],
 "metadata": {
  "kernelspec": {
   "display_name": "R",
   "language": "R",
   "name": "ir"
  },
  "language_info": {
   "codemirror_mode": "r",
   "file_extension": ".r",
   "mimetype": "text/x-r-source",
   "name": "R",
   "pygments_lexer": "r",
   "version": "3.4.2"
  }
 },
 "nbformat": 4,
 "nbformat_minor": 2
}

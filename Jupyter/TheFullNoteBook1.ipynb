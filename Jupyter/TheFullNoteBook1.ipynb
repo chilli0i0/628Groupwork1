{
 "cells": [
  {
   "cell_type": "markdown",
   "metadata": {
    "collapsed": true,
    "slideshow": {
     "slide_type": "slide"
    }
   },
   "source": [
    "# BabyFat Data\n",
    "\n",
    "### Hongzhi Liu, Lixia Yi, Yanran Wang, Jianmin Chen\n",
    "\n",
    "CHECKLIST:\n",
    "1. SELECT 1-2 MODELS TO EXPLAIN\n",
    "2. TEST ON HOW TO INCLUDE PLOTS AND R FILES\n",
    "3. ESTABLISH A FRAMEWORK FOR OUR PRESENTATION (THE SLIDES IN CLASS COULD SERVE AS A GOOD REFERENCE\n"
   ]
  },
  {
   "cell_type": "code",
   "execution_count": null,
   "metadata": {
    "collapsed": true,
    "slideshow": {
     "slide_type": "slide"
    }
   },
   "outputs": [],
   "source": [
    "### Part 1 Data Background and EDA\n",
    "### Part 2 Multi-linear regression and diagnostics\n",
    "### Part 3 Model-selection\n",
    "### Part 4 Result interpretation and limits"
   ]
  },
  {
   "cell_type": "markdown",
   "metadata": {
    "collapsed": true,
    "slideshow": {
     "slide_type": "slide"
    }
   },
   "source": [
    "Part 1 Data Background and EDA\n",
    "\n",
    "The body fat data set contains 252 records for men on percentage of body fat, body density, age, weight, height,\n",
    "and ten body circumference measurements. The data was  generated in lab during 1980s. One thing we discovered is \n",
    "that the percentage of body fat here is no the original one given in the 1980s set. Almost all values are slightly\n",
    "larger than the previous version.\n"
   ]
  },
  {
   "cell_type": "markdown",
   "metadata": {
    "collapsed": true,
    "slideshow": {
     "slide_type": "subslide"
    }
   },
   "source": [
    "First, we use raw data set to detect abnormal points. And we will pay more attention to these points.\n",
    "There are 3 rules that we used to detect abnormal points:\n",
    "(1)point with impossible values: 182(Bodyfat),216(Bodyfat),42(Height)\n",
    "(2)point differ too much between 2 measurement of body component: 96\n",
    "(3)extreme values: 79,39,31.(Outlier candidate points)\n"
   ]
  },
  {
   "cell_type": "code",
   "execution_count": 5,
   "metadata": {
    "slideshow": {
     "slide_type": "fragment"
    }
   },
   "outputs": [
    {
     "data": {
      "text/html": [
       "<ol class=list-inline>\n",
       "\t<li>248</li>\n",
       "\t<li>15</li>\n",
       "</ol>\n"
      ],
      "text/latex": [
       "\\begin{enumerate*}\n",
       "\\item 248\n",
       "\\item 15\n",
       "\\end{enumerate*}\n"
      ],
      "text/markdown": [
       "1. 248\n",
       "2. 15\n",
       "\n",
       "\n"
      ],
      "text/plain": [
       "[1] 248  15"
      ]
     },
     "metadata": {},
     "output_type": "display_data"
    }
   ],
   "source": [
    "data <- read.csv(file = \"BodyFat.csv\")\n",
    "data <- data[, -c(1)] #delete the index of instances\n",
    "data.1=data[-c(182,216,96,42),-c(2)] #delete points with no substitue\n",
    "dim(data.1)"
   ]
  },
  {
   "cell_type": "code",
   "execution_count": null,
   "metadata": {
    "collapsed": true,
    "slideshow": {
     "slide_type": "subslide"
    }
   },
   "outputs": [],
   "source": [
    "EDA: following is a corrplot showing the Pearson correlation coefficient between the Y and X. \n",
    "From the plots,.........."
   ]
  },
  {
   "cell_type": "code",
   "execution_count": 6,
   "metadata": {
    "slideshow": {
     "slide_type": "fragment"
    }
   },
   "outputs": [
    {
     "data": {
      "image/png": "[encoded data removed]",
      "text/plain": [
       "Plot with title \"correlation plot\""
      ]
     },
     "metadata": {},
     "output_type": "display_data"
    }
   ],
   "source": [
    "library('corrplot')\n",
    "library(\"RColorBrewer\")\n",
    "M <- cor(data.1)\n",
    "cor.mtest <- function(mat, ...) {\n",
    "  mat <- as.matrix(mat)\n",
    "  n <- ncol(mat)\n",
    "  p.mat<- matrix(NA, n, n)\n",
    "  diag(p.mat) <- 0\n",
    "  for (i in 1:(n - 1)) {\n",
    "    for (j in (i + 1):n) {\n",
    "      tmp <- cor.test(mat[, i], mat[, j], ...)\n",
    "      p.mat[i, j] <- p.mat[j, i] <- tmp$p.value\n",
    "    }\n",
    "  }\n",
    "  colnames(p.mat) <- rownames(p.mat) <- colnames(mat)\n",
    "  p.mat\n",
    "}\n",
    "# matrix of the p-value of the correlation\n",
    "p.mat <- cor.mtest(data.1)\n",
    "corrplot(M, type=\"upper\", order=\"hclust\",col=brewer.pal(n=8, name=\"PuOr\"),\n",
    "         tl.col=\"black\",sig.level = 0.01,p.mat=p.mat,insig = \"blank\",\n",
    "         title=\"correlation plot\",tl.cex=0.6,mar=c(0,0,1,0))\n"
   ]
  },
  {
   "cell_type": "code",
   "execution_count": null,
   "metadata": {
    "collapsed": true,
    "slideshow": {
     "slide_type": "subslide"
    }
   },
   "outputs": [],
   "source": [
    "Add some other plot or EDA"
   ]
  },
  {
   "cell_type": "markdown",
   "metadata": {
    "collapsed": true,
    "slideshow": {
     "slide_type": "slide"
    }
   },
   "source": [
    "Part 2 Multi-linear regression and diagnostics\n",
    "We first fit a multi-linear regression on all variables and carry out model diagnostics.\n",
    "(1)remove high influencial/leverage point 39,86,221,31,36,41\n",
    "rule:leverage>4/(n-p), one each time(stop at point 86)\n",
    "rule:no extreme values on other independent variables: 31,41,79"
   ]
  },
  {
   "cell_type": "code",
   "execution_count": 8,
   "metadata": {
    "slideshow": {
     "slide_type": "fragment"
    }
   },
   "outputs": [
    {
     "data": {
      "text/plain": [
       "\n",
       "Call:\n",
       "lm(formula = BODYFAT ~ ., data = data.1)\n",
       "\n",
       "Residuals:\n",
       "    Min      1Q  Median      3Q     Max \n",
       "-10.165  -2.644  -0.105   2.837   9.439 \n",
       "\n",
       "Coefficients:\n",
       "             Estimate Std. Error t value Pr(>|t|)    \n",
       "(Intercept) -33.47318   37.86454  -0.884  0.37759    \n",
       "AGE           0.05974    0.03015   1.981  0.04872 *  \n",
       "WEIGHT       -0.12863    0.10516  -1.223  0.22252    \n",
       "HEIGHT        0.24642    0.53253   0.463  0.64399    \n",
       "ADIPOSITY     0.43367    0.78407   0.553  0.58072    \n",
       "NECK         -0.42956    0.21879  -1.963  0.05079 .  \n",
       "CHEST        -0.04924    0.10066  -0.489  0.62521    \n",
       "ABDOMEN       0.86922    0.08623  10.081  < 2e-16 ***\n",
       "HIP          -0.23010    0.13818  -1.665  0.09721 .  \n",
       "THIGH         0.24027    0.13781   1.744  0.08256 .  \n",
       "KNEE          0.03011    0.23240   0.130  0.89702    \n",
       "ANKLE         0.13065    0.20981   0.623  0.53410    \n",
       "BICEPS        0.16984    0.16105   1.055  0.29272    \n",
       "FOREARM       0.40152    0.18662   2.152  0.03246 *  \n",
       "WRIST        -1.49498    0.49885  -2.997  0.00302 ** \n",
       "---\n",
       "Signif. codes:  0 '***' 0.001 '**' 0.01 '*' 0.05 '.' 0.1 ' ' 1\n",
       "\n",
       "Residual standard error: 3.991 on 233 degrees of freedom\n",
       "Multiple R-squared:  0.7324,\tAdjusted R-squared:  0.7164 \n",
       "F-statistic: 45.56 on 14 and 233 DF,  p-value: < 2.2e-16\n"
      ]
     },
     "metadata": {},
     "output_type": "display_data"
    },
    {
     "data": {
      "text/html": [
       "<dl class=dl-horizontal>\n",
       "\t<dt>AGE</dt>\n",
       "\t\t<dd>2.26766743444338</dd>\n",
       "\t<dt>WEIGHT</dt>\n",
       "\t\t<dd>144.968283924179</dd>\n",
       "\t<dt>HEIGHT</dt>\n",
       "\t\t<dd>28.6351646976789</dd>\n",
       "\t<dt>ADIPOSITY</dt>\n",
       "\t\t<dd>120.353780117951</dd>\n",
       "\t<dt>NECK</dt>\n",
       "\t\t<dd>4.33951319473111</dd>\n",
       "\t<dt>CHEST</dt>\n",
       "\t\t<dd>10.7103855931975</dd>\n",
       "\t<dt>ABDOMEN</dt>\n",
       "\t\t<dd>12.8807065986267</dd>\n",
       "\t<dt>HIP</dt>\n",
       "\t\t<dd>14.6149119616785</dd>\n",
       "\t<dt>THIGH</dt>\n",
       "\t\t<dd>7.904463005927</dd>\n",
       "\t<dt>KNEE</dt>\n",
       "\t\t<dd>4.75535522970081</dd>\n",
       "\t<dt>ANKLE</dt>\n",
       "\t\t<dd>1.96794085036681</dd>\n",
       "\t<dt>BICEPS</dt>\n",
       "\t\t<dd>3.68428583747329</dd>\n",
       "\t<dt>FOREARM</dt>\n",
       "\t\t<dd>2.19464646183821</dd>\n",
       "\t<dt>WRIST</dt>\n",
       "\t\t<dd>3.2866979968909</dd>\n",
       "</dl>\n"
      ],
      "text/latex": [
       "\\begin{description*}\n",
       "\\item[AGE] 2.26766743444338\n",
       "\\item[WEIGHT] 144.968283924179\n",
       "\\item[HEIGHT] 28.6351646976789\n",
       "\\item[ADIPOSITY] 120.353780117951\n",
       "\\item[NECK] 4.33951319473111\n",
       "\\item[CHEST] 10.7103855931975\n",
       "\\item[ABDOMEN] 12.8807065986267\n",
       "\\item[HIP] 14.6149119616785\n",
       "\\item[THIGH] 7.904463005927\n",
       "\\item[KNEE] 4.75535522970081\n",
       "\\item[ANKLE] 1.96794085036681\n",
       "\\item[BICEPS] 3.68428583747329\n",
       "\\item[FOREARM] 2.19464646183821\n",
       "\\item[WRIST] 3.2866979968909\n",
       "\\end{description*}\n"
      ],
      "text/markdown": [
       "AGE\n",
       ":   2.26766743444338WEIGHT\n",
       ":   144.968283924179HEIGHT\n",
       ":   28.6351646976789ADIPOSITY\n",
       ":   120.353780117951NECK\n",
       ":   4.33951319473111CHEST\n",
       ":   10.7103855931975ABDOMEN\n",
       ":   12.8807065986267HIP\n",
       ":   14.6149119616785THIGH\n",
       ":   7.904463005927KNEE\n",
       ":   4.75535522970081ANKLE\n",
       ":   1.96794085036681BICEPS\n",
       ":   3.68428583747329FOREARM\n",
       ":   2.19464646183821WRIST\n",
       ":   3.2866979968909\n",
       "\n"
      ],
      "text/plain": [
       "       AGE     WEIGHT     HEIGHT  ADIPOSITY       NECK      CHEST    ABDOMEN \n",
       "  2.267667 144.968284  28.635165 120.353780   4.339513  10.710386  12.880707 \n",
       "       HIP      THIGH       KNEE      ANKLE     BICEPS    FOREARM      WRIST \n",
       " 14.614912   7.904463   4.755355   1.967941   3.684286   2.194646   3.286698 "
      ]
     },
     "metadata": {},
     "output_type": "display_data"
    },
    {
     "data": {
      "image/png": "[encoded data removed]",
      "text/plain": [
       "Plot with title \"\""
      ]
     },
     "metadata": {},
     "output_type": "display_data"
    },
    {
     "data": {
      "image/png": "[encoded data removed]",
      "text/plain": [
       "Plot with title \"\""
      ]
     },
     "metadata": {},
     "output_type": "display_data"
    },
    {
     "data": {
      "text/plain": [
       "\n",
       "No Studentized residuals with Bonferonni p < 0.05\n",
       "Largest |rstudent|:\n",
       "     rstudent unadjusted p-value Bonferonni p\n",
       "224 -2.529713           0.012097           NA"
      ]
     },
     "metadata": {},
     "output_type": "display_data"
    },
    {
     "data": {
      "text/html": [
       "<table>\n",
       "<thead><tr><th></th><th scope=col>BODYFAT</th><th scope=col>DENSITY</th><th scope=col>AGE</th><th scope=col>WEIGHT</th><th scope=col>HEIGHT</th><th scope=col>ADIPOSITY</th><th scope=col>NECK</th><th scope=col>CHEST</th><th scope=col>ABDOMEN</th><th scope=col>HIP</th><th scope=col>THIGH</th><th scope=col>KNEE</th><th scope=col>ANKLE</th><th scope=col>BICEPS</th><th scope=col>FOREARM</th><th scope=col>WRIST</th></tr></thead>\n",
       "<tbody>\n",
       "\t<tr><th scope=row>224</th><td>6.1   </td><td>1.0874</td><td>55    </td><td>142.25</td><td>67.25 </td><td>22.2  </td><td>35.2  </td><td>92.7  </td><td>82.8  </td><td>91.9  </td><td>54.4  </td><td>35.2  </td><td>22.5  </td><td>29.4  </td><td>26.8  </td><td>17    </td></tr>\n",
       "</tbody>\n",
       "</table>\n"
      ],
      "text/latex": [
       "\\begin{tabular}{r|llllllllllllllll}\n",
       "  & BODYFAT & DENSITY & AGE & WEIGHT & HEIGHT & ADIPOSITY & NECK & CHEST & ABDOMEN & HIP & THIGH & KNEE & ANKLE & BICEPS & FOREARM & WRIST\\\\\n",
       "\\hline\n",
       "\t224 & 6.1    & 1.0874 & 55     & 142.25 & 67.25  & 22.2   & 35.2   & 92.7   & 82.8   & 91.9   & 54.4   & 35.2   & 22.5   & 29.4   & 26.8   & 17    \\\\\n",
       "\\end{tabular}\n"
      ],
      "text/markdown": [
       "\n",
       "| <!--/--> | BODYFAT | DENSITY | AGE | WEIGHT | HEIGHT | ADIPOSITY | NECK | CHEST | ABDOMEN | HIP | THIGH | KNEE | ANKLE | BICEPS | FOREARM | WRIST | \n",
       "|---|\n",
       "| 224 | 6.1    | 1.0874 | 55     | 142.25 | 67.25  | 22.2   | 35.2   | 92.7   | 82.8   | 91.9   | 54.4   | 35.2   | 22.5   | 29.4   | 26.8   | 17     | \n",
       "\n",
       "\n"
      ],
      "text/plain": [
       "    BODYFAT DENSITY AGE WEIGHT HEIGHT ADIPOSITY NECK CHEST ABDOMEN HIP  THIGH\n",
       "224 6.1     1.0874  55  142.25 67.25  22.2      35.2 92.7  82.8    91.9 54.4 \n",
       "    KNEE ANKLE BICEPS FOREARM WRIST\n",
       "224 35.2 22.5  29.4   26.8    17   "
      ]
     },
     "metadata": {},
     "output_type": "display_data"
    },
    {
     "data": {
      "image/png": "[encoded data removed]",
      "text/plain": [
       "Plot with title \"\""
      ]
     },
     "metadata": {},
     "output_type": "display_data"
    }
   ],
   "source": [
    "model.raw <- lm(BODYFAT ~ ., data = data.1)\n",
    "require(car)    #I change the order of residuals plot and vif calculation here\n",
    "vif(model.raw)\n",
    "par(mfrow = c(2,2))\n",
    "plot(model.raw)\n",
    "par(mfrow = c(1,1))\n",
    "plot(model.raw, which=4)\n",
    "abline( h = 4/(248-15),lty=2 )\n",
    "data.2 = data[-c(182,216,96,42,39,221,86,31,41,79),-2]   #points differ\n",
    "model.raw2 <- lm(BODYFAT ~ ., data = data.2)\n",
    "plot(model.raw2, which=4)\n",
    "abline( h = 4/(242-15),lty=2,col=2)\n",
    "outlierTest(model.raw2)\n",
    "data[224,]  #suspected outlier, but do not delete at 5%"
   ]
  },
  {
   "cell_type": "markdown",
   "metadata": {
    "collapsed": true,
    "slideshow": {
     "slide_type": "subslide"
    }
   },
   "source": [
    "(2)check the assumptions of the linear model\n",
    "a.independent assumption\n",
    "b.homescedesticity assumption\n",
    "c.linear form assumption\n",
    "All these assumptions are not violate. Except that in the residuals plot of Height vs Residuals, there is some kind of quadratic form."
   ]
  },
  {
   "cell_type": "code",
   "execution_count": null,
   "metadata": {
    "collapsed": true,
    "slideshow": {
     "slide_type": "fragment"
    }
   },
   "outputs": [],
   "source": [
    "durbinWatsonTest(model.raw2)  #test for independence\n",
    "ncvTest(model.raw2)   #test for homescedesticity\n",
    "require(gvlma)\n",
    "gvlma(model.raw2)    #test for linear form\n",
    "plot(data.2$HEIGHT,res)   #plot for linear form"
   ]
  },
  {
   "cell_type": "code",
   "execution_count": 9,
   "metadata": {
    "slideshow": {
     "slide_type": "subslide"
    }
   },
   "outputs": [
    {
     "data": {
      "text/plain": [
       "\n",
       "Call:\n",
       "lm(formula = BODYFAT ~ ., data = data.2)\n",
       "\n",
       "Residuals:\n",
       "    Min      1Q  Median      3Q     Max \n",
       "-9.6030 -2.8598 -0.1189  2.6759  8.9529 \n",
       "\n",
       "Coefficients:\n",
       "             Estimate Std. Error t value Pr(>|t|)    \n",
       "(Intercept) -72.45248   46.04924  -1.573   0.1170    \n",
       "AGE           0.05873    0.03059   1.920   0.0561 .  \n",
       "WEIGHT       -0.22563    0.12948  -1.743   0.0828 .  \n",
       "HEIGHT        0.80415    0.61909   1.299   0.1953    \n",
       "ADIPOSITY     1.38081    0.87991   1.569   0.1180    \n",
       "NECK         -0.31216    0.22179  -1.407   0.1607    \n",
       "CHEST        -0.11973    0.10531  -1.137   0.2568    \n",
       "ABDOMEN       0.84345    0.08765   9.623   <2e-16 ***\n",
       "HIP          -0.14822    0.14290  -1.037   0.3007    \n",
       "THIGH         0.21008    0.13982   1.503   0.1343    \n",
       "KNEE         -0.07504    0.24971  -0.300   0.7641    \n",
       "ANKLE         0.03631    0.34614   0.105   0.9166    \n",
       "BICEPS        0.13606    0.16299   0.835   0.4047    \n",
       "FOREARM       0.27488    0.19379   1.418   0.1574    \n",
       "WRIST        -1.34194    0.52973  -2.533   0.0120 *  \n",
       "---\n",
       "Signif. codes:  0 '***' 0.001 '**' 0.01 '*' 0.05 '.' 0.1 ' ' 1\n",
       "\n",
       "Residual standard error: 3.917 on 227 degrees of freedom\n",
       "Multiple R-squared:  0.7383,\tAdjusted R-squared:  0.7222 \n",
       "F-statistic: 45.74 on 14 and 227 DF,  p-value: < 2.2e-16\n"
      ]
     },
     "metadata": {},
     "output_type": "display_data"
    }
   ],
   "source": [
    "We use the multilinear regression model to help delete outliers. However, there is heavy multicolinearity in the model.\n",
    "Only variable AGE, HEIGHT, ABDOMEN and WRIST is significant at 0.1 level. We need to do model select."
   ]
  },
  {
   "cell_type": "markdown",
   "metadata": {
    "collapsed": true,
    "slideshow": {
     "slide_type": "slide"
    }
   },
   "source": [
    "Part 3 model selection\n",
    "Here, our aim is to gain an accurate rule of thumb. Hence, we choose MSE on test set as the objective function to minimize"
   ]
  },
  {
   "cell_type": "markdown",
   "metadata": {
    "collapsed": true,
    "slideshow": {
     "slide_type": "slide"
    }
   },
   "source": [
    "Part 4 \n",
    "Based on all the discussions above, ......\n",
    "(1)a formula of the rule\n",
    "(2)a interpretation of CI of slope\n",
    "(3)give a plot of fitted line and the points\n",
    "(4)limitations: age range(plot), sex(only male), year(the data was gathered over 20 years ago in lab)\n",
    "(5)unit problem\n",
    "......"
   ]
  }
 ],
 "metadata": {
  "celltoolbar": "Slideshow",
  "kernelspec": {
   "display_name": "R",
   "language": "R",
   "name": "ir"
  },
  "language_info": {
   "codemirror_mode": "r",
   "file_extension": ".r",
   "mimetype": "text/x-r-source",
   "name": "R",
   "pygments_lexer": "r",
   "version": "3.4.2"
  }
 },
 "nbformat": 4,
 "nbformat_minor": 2
}

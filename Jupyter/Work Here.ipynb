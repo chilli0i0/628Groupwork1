{
 "cells": [
  {
   "cell_type": "markdown",
   "metadata": {
    "slideshow": {
     "slide_type": "fragment"
    }
   },
   "source": [
    "# Title\n",
    "\n",
    "## subtitle\n",
    "\n",
    "CHECKLIST:\n",
    "1. SELECT 1-2 MODELS TO EXPLAIN\n",
    "2. TEST ON HOW TO INCLUDE PLOTS AND R FILES\n",
    "3. ESTABLISH A FRAMEWORK FOR OUR PRESENTATION (THE SLIDES IN CLASS COULD SERVE AS A GOOD REFERENCE\n"
   ]
  },
  {
   "cell_type": "code",
   "execution_count": null,
   "metadata": {
    "collapsed": true
   },
   "outputs": [],
   "source": []
  }
 ],
 "metadata": {
  "celltoolbar": "Slideshow",
  "kernelspec": {
   "display_name": "R",
   "language": "R",
   "name": "ir"
  },
  "language_info": {
   "codemirror_mode": "r",
   "file_extension": ".r",
   "mimetype": "text/x-r-source",
   "name": "R",
   "pygments_lexer": "r",
   "version": "3.4.2"
  }
 },
 "nbformat": 4,
 "nbformat_minor": 2
}
